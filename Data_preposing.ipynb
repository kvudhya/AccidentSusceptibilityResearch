{
  "cells": [
    {
      "cell_type": "markdown",
      "metadata": {
        "id": "rUmPTyJgevFS"
      },
      "source": [
        "GSP Data preprocessing\n"
      ]
    },
    {
      "cell_type": "code",
      "execution_count": null,
      "metadata": {
        "id": "UQzqlSyLeipy"
      },
      "outputs": [],
      "source": [
        "import pandas as pd\n",
        "from pandas import *\n",
        "read_file1 = pd.read_excel(\"/content/drive/MyDrive/Files/Final GSP Accident location Data and list (1).xlsx\")\n",
        "csv_file = read_file1.to_csv(\"Final GSP Accident location Data and list.csv\", index = None, header = True)\n",
        "\n",
        "reads = read_csv(\"Final GSP Accident location Data and list.csv\")\n",
        "\n",
        "list_of_locations = reads[\"Accident Locations\"].tolist()\n",
        "\n",
        "sample_locations = list_of_locations[-11:]\n",
        "\n",
        "new_locations =[]\n",
        "for i in range(5):\n",
        "  new_locations.append(sample_locations[i])"
      ]
    },
    {
      "cell_type": "code",
      "execution_count": null,
      "metadata": {
        "id": "67RFxloew8o0"
      },
      "outputs": [],
      "source": [
        "read_file3= pd.read_excel(\"/content/drive/MyDrive/Files/Speed_weather data for GSP (3).xlsx\")\n",
        "read_file3.to_csv(\"Speed_weather data for everything.csv\", index = None, header = True)"
      ]
    },
    {
      "cell_type": "code",
      "execution_count": null,
      "metadata": {
        "colab": {
          "base_uri": "https://localhost:8080/"
        },
        "id": "WHzyQEDpeuM5",
        "outputId": "ebf06bac-1ab8-4fdc-b0da-4cb1b37045e0"
      },
      "outputs": [
        {
          "output_type": "stream",
          "name": "stdout",
          "text": [
            "Looking in indexes: https://pypi.org/simple, https://us-python.pkg.dev/colab-wheels/public/simple/\n",
            "Collecting snscrape\n",
            "  Downloading snscrape-0.6.2.20230320-py3-none-any.whl (71 kB)\n",
            "\u001b[2K     \u001b[90m━━━━━━━━━━━━━━━━━━━━━━━━━━━━━━━━━━━━━━━━\u001b[0m \u001b[32m71.8/71.8 KB\u001b[0m \u001b[31m3.0 MB/s\u001b[0m eta \u001b[36m0:00:00\u001b[0m\n",
            "\u001b[?25hRequirement already satisfied: beautifulsoup4 in /usr/local/lib/python3.9/dist-packages (from snscrape) (4.11.2)\n",
            "Requirement already satisfied: lxml in /usr/local/lib/python3.9/dist-packages (from snscrape) (4.9.2)\n",
            "Requirement already satisfied: requests[socks] in /usr/local/lib/python3.9/dist-packages (from snscrape) (2.27.1)\n",
            "Requirement already satisfied: filelock in /usr/local/lib/python3.9/dist-packages (from snscrape) (3.10.2)\n",
            "Requirement already satisfied: soupsieve>1.2 in /usr/local/lib/python3.9/dist-packages (from beautifulsoup4->snscrape) (2.4)\n",
            "Requirement already satisfied: charset-normalizer~=2.0.0 in /usr/local/lib/python3.9/dist-packages (from requests[socks]->snscrape) (2.0.12)\n",
            "Requirement already satisfied: certifi>=2017.4.17 in /usr/local/lib/python3.9/dist-packages (from requests[socks]->snscrape) (2022.12.7)\n",
            "Requirement already satisfied: idna<4,>=2.5 in /usr/local/lib/python3.9/dist-packages (from requests[socks]->snscrape) (3.4)\n",
            "Requirement already satisfied: urllib3<1.27,>=1.21.1 in /usr/local/lib/python3.9/dist-packages (from requests[socks]->snscrape) (1.26.15)\n",
            "Requirement already satisfied: PySocks!=1.5.7,>=1.5.6 in /usr/local/lib/python3.9/dist-packages (from requests[socks]->snscrape) (1.7.1)\n",
            "Installing collected packages: snscrape\n",
            "Successfully installed snscrape-0.6.2.20230320\n"
          ]
        }
      ],
      "source": [
        "!pip install snscrape\n",
        "import os\n",
        "import snscrape.modules.twitter as sntwitter\n",
        "import urllib.request\n",
        "os.system(\"snscrape --jsonl  --since 2021-01-01 twitter-search 'from:511njgsp until:2023-01-01' > user-tweets.json\")\n",
        "\n",
        "tweets_df = pd.read_json('user-tweets.json', lines = True)\n",
        "\n",
        "\n",
        "tweets_list = []\n",
        "\n",
        "for tweet in sntwitter.TwitterSearchScraper('from:511njgsp since:2021-01-01 until:2023-01-01').get_items():\n",
        "\n",
        "  tweets_list.append(tweet.rawContent)\n"
      ]
    },
    {
      "cell_type": "code",
      "execution_count": null,
      "metadata": {
        "id": "H-6h7Zh_e3nm",
        "colab": {
          "base_uri": "https://localhost:8080/"
        },
        "outputId": "cb850aba-82e0-4daf-b8a4-8b942aef9860"
      },
      "outputs": [
        {
          "output_type": "stream",
          "name": "stdout",
          "text": [
            "5441\n",
            "{'Exit 144': 116, 'Exit 109': 126, 'Exit 142': 157, 'Exit 145 ': 170, 'Exit 10': 288}\n"
          ]
        }
      ],
      "source": [
        "accidents_count = {}\n",
        "for location in new_locations:\n",
        "  counter = 0\n",
        "  for tweets in tweets_list:\n",
        "    if 'Crash' in tweets:\n",
        "      if location in tweets:\n",
        "        counter = counter + 1\n",
        "\n",
        "  accidents_count[location] = counter\n",
        "\n",
        "crash_tweets_gsp = []\n",
        "for tweets in tweets_list:\n",
        "  if 'Crash' in tweets:\n",
        "    crash_tweets_gsp.append(tweets)\n",
        "\n",
        "print(len(crash_tweets_gsp))\n",
        "\n",
        "print(accidents_count)"
      ]
    },
    {
      "cell_type": "code",
      "execution_count": null,
      "metadata": {
        "id": "euJET7FPfSLk",
        "colab": {
          "base_uri": "https://localhost:8080/"
        },
        "outputId": "61f67061-990b-4a16-8b47-4f9414d5384f"
      },
      "outputs": [
        {
          "output_type": "stream",
          "name": "stdout",
          "text": [
            "Looking in indexes: https://pypi.org/simple, https://us-python.pkg.dev/colab-wheels/public/simple/\n",
            "Requirement already satisfied: snscrape in /usr/local/lib/python3.9/dist-packages (0.6.2.20230320)\n",
            "Requirement already satisfied: requests[socks] in /usr/local/lib/python3.9/dist-packages (from snscrape) (2.27.1)\n",
            "Requirement already satisfied: beautifulsoup4 in /usr/local/lib/python3.9/dist-packages (from snscrape) (4.11.2)\n",
            "Requirement already satisfied: filelock in /usr/local/lib/python3.9/dist-packages (from snscrape) (3.10.2)\n",
            "Requirement already satisfied: lxml in /usr/local/lib/python3.9/dist-packages (from snscrape) (4.9.2)\n",
            "Requirement already satisfied: soupsieve>1.2 in /usr/local/lib/python3.9/dist-packages (from beautifulsoup4->snscrape) (2.4)\n",
            "Requirement already satisfied: urllib3<1.27,>=1.21.1 in /usr/local/lib/python3.9/dist-packages (from requests[socks]->snscrape) (1.26.15)\n",
            "Requirement already satisfied: charset-normalizer~=2.0.0 in /usr/local/lib/python3.9/dist-packages (from requests[socks]->snscrape) (2.0.12)\n",
            "Requirement already satisfied: idna<4,>=2.5 in /usr/local/lib/python3.9/dist-packages (from requests[socks]->snscrape) (3.4)\n",
            "Requirement already satisfied: certifi>=2017.4.17 in /usr/local/lib/python3.9/dist-packages (from requests[socks]->snscrape) (2022.12.7)\n",
            "Requirement already satisfied: PySocks!=1.5.7,>=1.5.6 in /usr/local/lib/python3.9/dist-packages (from requests[socks]->snscrape) (1.7.1)\n",
            "36\n",
            "['Interchange 13', 'Interchange 14', 'Interchange 9', 'Interchange 15W', 'Interchange 11', 'Interchange 8A', 'Interchange 13A', 'North of Interchange 8', 'Interchange 12', 'North of Interchange 7', 'Interchange 10', 'Interchange 4', 'Interchange 2', ' Interchange 16W', 'Interchange 3', 'North of Interchange 7A', 'Interchange 14A', ' Interchange 16E', 'Interchange 1 ', 'Interchange 18W', 'Southern Mixing Bowl', 'North of Interchange 5', 'Molly Pitcher Service Area', 'Interchange 14B', 'Interchange 14C', 'North of Delaware Memorial Bridge', 'Eastern Spur Interchange 15E', 'North of Exit 69', 'North of Exit 69', 'North of Exit 69']\n"
          ]
        }
      ],
      "source": [
        "!pip install snscrape\n",
        "import snscrape.modules.twitter as sntwitter\n",
        "import os\n",
        "read_file = pd.read_excel('/content/drive/MyDrive/Files/Refined NJ Turnpike possible locations copy.xlsx')\n",
        "\n",
        "read_file.to_csv('Refined NJ Turnpike possible locations.csv', index = None, header = True)\n",
        "\n",
        "thecsvfile = read_csv('Refined NJ Turnpike possible locations.csv')\n",
        "\n",
        "thedata = thecsvfile['Possible Accident_Sites'].tolist()\n",
        "\n",
        "print(len(thedata))\n",
        "\n",
        "accident_locations = [*set(thedata)]#use this as list\n",
        "\n",
        "\n",
        "\n",
        "os.system(\"snscrape --jsonl  --since 2021-01-01 twitter-search 'from:511njtpk until:2023-01-01' > user-tweets.json\")\n",
        "\n",
        "tweets_df2 = pd.read_json('user-tweets.json', lines = True)\n",
        "\n",
        "\n",
        "tweets_list_NJ_turnPike = []\n",
        "\n",
        "for tweet in sntwitter.TwitterSearchScraper('from:511njtpk since:2021-01-01 until:2023-01-01').get_items():\n",
        "    tweets_list_NJ_turnPike.append(tweet.rawContent)\n",
        "\n",
        "\n",
        "accidents_count_NJTurnpike = {}\n",
        "for location in accident_locations:\n",
        "    counter = 0\n",
        "    for tweets in tweets_list_NJ_turnPike:\n",
        "        if 'Crash' in tweets:\n",
        "            if location == \"Interchange 1\":\n",
        "                location = 'Interchange 1 '\n",
        "            if location in tweets:\n",
        "                counter = counter + 1\n",
        "\n",
        "    accidents_count_NJTurnpike[location] = counter\n",
        "\n",
        "crash_tweets = []\n",
        "for tweets in tweets_list_NJ_turnPike:\n",
        "  if 'Crash' in tweets:\n",
        "    crash_tweets.append(tweets)\n",
        "\n",
        "#print(len(crash_tweets))\n",
        "\n",
        "#print(accidents_count)\n",
        "\n",
        "number_of_accidents_NJTurnpike = list(accidents_count_NJTurnpike.values())\n",
        "accident_location_NJTurnpike= list(accidents_count_NJTurnpike.keys())\n",
        "\n",
        "\n",
        "the_sites_list = []\n",
        "for i in range(30):\n",
        "    highest=max(number_of_accidents_NJTurnpike)\n",
        "    the_sites_list.append(highest)\n",
        "    number_of_accidents_NJTurnpike.remove(highest)\n",
        "\n",
        "number_of_accidents = list(accidents_count_NJTurnpike.values())\n",
        "final_accident_location_NJTurnpike = []\n",
        "for accidents in the_sites_list:\n",
        "    final_accident_location_NJTurnpike.append(accident_location_NJTurnpike[number_of_accidents.index(accidents)])\n",
        "\n",
        "\n",
        "\n",
        "print(final_accident_location_NJTurnpike)\n",
        "\n"
      ]
    },
    {
      "cell_type": "code",
      "execution_count": null,
      "metadata": {
        "id": "koKWBeVJ_d8U",
        "colab": {
          "base_uri": "https://localhost:8080/"
        },
        "outputId": "0b00d597-ab8a-476b-d59b-113250588d3f"
      },
      "outputs": [
        {
          "output_type": "stream",
          "name": "stdout",
          "text": [
            "{'Interchange 13': 740, 'Interchange 14': 395, 'Interchange 9': 360, 'Interchange 15W': 311, 'Interchange 11': 271, 'Interchange 8A': 251, 'Interchange 13A': 242, 'North of Interchange 8': 217, 'Interchange 12': 201, 'North of Interchange 7': 188, 'Interchange 10': 173, 'Interchange 4': 167, 'Interchange 2': 129, ' Interchange 16W': 127, 'Interchange 3': 104, 'North of Interchange 7A': 101, 'Interchange 14A': 94, ' Interchange 16E': 93, 'Interchange 1 ': 77, 'Interchange 18W': 74, 'Southern Mixing Bowl': 71, 'North of Interchange 5': 68, 'Molly Pitcher Service Area': 52, 'Interchange 14B': 26, 'Interchange 14C': 24, 'North of Delaware Memorial Bridge': 20, 'Eastern Spur Interchange 15E': 1, 'North of Exit 69': 0}\n",
            "{'Exit 144': 116, 'Exit 109': 126, 'Exit 142': 157, 'Exit 145 ': 170, 'Exit 10': 288, 'Interchange 13': 740, 'Interchange 14': 395, 'Interchange 9': 360, 'Interchange 15W': 311, 'Interchange 11': 271, 'Interchange 8A': 251, 'Interchange 13A': 242, 'North of Interchange 8': 217, 'Interchange 12': 201, 'North of Interchange 7': 188, 'Interchange 10': 173, 'Interchange 4': 167, 'Interchange 2': 129, ' Interchange 16W': 127, 'Interchange 3': 104, 'North of Interchange 7A': 101, 'Interchange 14A': 94, ' Interchange 16E': 93, 'Interchange 1 ': 77, 'Interchange 18W': 74, 'Southern Mixing Bowl': 71, 'North of Interchange 5': 68, 'Molly Pitcher Service Area': 52, 'Interchange 14B': 26, 'Interchange 14C': 24, 'North of Delaware Memorial Bridge': 20, 'Eastern Spur Interchange 15E': 1, 'North of Exit 69': 0}\n"
          ]
        }
      ],
      "source": [
        "NJ_Turnpike_accidents = {}\n",
        "for stuff in final_accident_location_NJTurnpike:\n",
        "  number = accidents_count_NJTurnpike[stuff]\n",
        "  NJ_Turnpike_accidents[stuff]=number\n",
        "print(NJ_Turnpike_accidents)\n",
        "\n",
        "len(crash_tweets)\n",
        "\n",
        "\n",
        "accidents_count.update(NJ_Turnpike_accidents)\n",
        "\n",
        "\n",
        "\n",
        "print(accidents_count)"
      ]
    },
    {
      "cell_type": "code",
      "source": [],
      "metadata": {
        "id": "3FI8EGxdx8FQ"
      },
      "execution_count": null,
      "outputs": []
    },
    {
      "cell_type": "code",
      "execution_count": null,
      "metadata": {
        "id": "jvQUwXIse5XX",
        "colab": {
          "base_uri": "https://localhost:8080/"
        },
        "outputId": "b78b0572-ae24-4097-eb74-6093959086ea"
      },
      "outputs": [
        {
          "output_type": "stream",
          "name": "stdout",
          "text": [
            "{'Exit 144': 'low susceptibility', 'Exit 109': 'low susceptibility', 'Exit 142': 'low susceptibility', 'Exit 145 ': 'low susceptibility', 'Exit 10': 'high susceptibility', 'Interchange 13': 'high susceptibility', 'Interchange 14': 'high susceptibility', 'Interchange 9': 'high susceptibility', 'Interchange 15W': 'high susceptibility', 'Interchange 11': 'mid susceptibility', 'Interchange 8A': 'mid susceptibility', 'Interchange 13A': 'mid susceptibility', 'North of Interchange 8': 'mid susceptibility', 'Interchange 12': 'mid susceptibility', 'North of Interchange 7': 'mid susceptibility', 'Interchange 10': 'mid susceptibility', 'Interchange 4': 'low susceptibility', 'Interchange 2': 'low susceptibility', ' Interchange 16W': 'low susceptibility', 'Interchange 3': 'low susceptibility', 'North of Interchange 7A': 'low susceptibility', 'Interchange 14A': 'low susceptibility', ' Interchange 16E': 'low susceptibility', 'Interchange 1 ': 'low susceptibility', 'Interchange 18W': 'low susceptibility', 'Southern Mixing Bowl': 'low susceptibility', 'North of Interchange 5': 'low susceptibility', 'Molly Pitcher Service Area': 'low susceptibility', 'Interchange 14B': 'low susceptibility', 'Interchange 14C': 'low susceptibility', 'North of Delaware Memorial Bridge': 'low susceptibility', 'Eastern Spur Interchange 15E': 'low susceptibility', 'North of Exit 69': 'low susceptibility'}\n",
            "yes\n",
            "['Exit 10', 'Exit 109', 'Exit 142', 'Exit 144', 'Exit 145']\n",
            "['MM 3.38 Hudson County Ext. W. of Int 14A1.mp4', 'MM 083.4 North of Interchange 91.mp4', 'MM 110.38 W Spur North of Interchange 15W1.mp4', 'MM 090.8 Interchange 111.mp4', 'MM 002.4 Interchange 11.mp4', 'MM 101.6 Interchange 13A Entering TPK1 (1).mp4', 'MM 067.7 North of Interchange 81 (1).mp4', 'MM 095.9 Interchange 121 (2).mp4', 'MM 060.4 North of Interchange 7A1 (2).mp4', 'MM 088.1 Interchange 101 (1).mp4', 'MM 037.0 North of Interchange 41.mp4', 'MM 013.0 Interchange 21 (1).mp4', 'MM 112.7 Western Spur Interchange 16W1.mp4', 'MM 112.31 W Spur South of Interchange 16W1.mp4', 'MM 026.1 Interchange 31.mp4', 'MM 060.4 North of Interchange 7A1 (2).mp4', 'MM 106.5 E Spur North of Southern Mixing Bowl1.mp4', 'MM 044.2 North of Interchange 51.mp4', 'MM 071.4 South of Molly Pitcher Service Area1.mp4', 'MM 107.1 Eastern Spur Interchange 15E1.mp4']\n",
            "['MM 3.38 Hudson County Ext. W. of Int 14A1.mp4', 'MM 083.4 North of Interchange 91.mp4', 'MM 110.38 W Spur North of Interchange 15W1.mp4', 'MM 090.8 Interchange 111.mp4', 'MM 002.4 Interchange 11.mp4', 'MM 101.6 Interchange 13A Entering TPK1 (1).mp4', 'MM 067.7 North of Interchange 81 (1).mp4', 'MM 095.9 Interchange 121 (2).mp4', 'MM 060.4 North of Interchange 7A1 (2).mp4', 'MM 088.1 Interchange 101 (1).mp4', 'MM 037.0 North of Interchange 41.mp4', 'MM 013.0 Interchange 21 (1).mp4', 'MM 112.7 Western Spur Interchange 16W1.mp4', 'MM 112.31 W Spur South of Interchange 16W1.mp4', 'MM 026.1 Interchange 31.mp4', 'MM 060.4 North of Interchange 7A1 (2).mp4', 'MM 106.5 E Spur North of Southern Mixing Bowl1.mp4', 'MM 044.2 North of Interchange 51.mp4', 'MM 071.4 South of Molly Pitcher Service Area1.mp4', 'MM 107.1 Eastern Spur Interchange 15E1.mp4', 'MM 103.4 South of Interchange 141 (1).mp4', 'MM 2.9 Pennsylvania Ext. West of Toll Plaza1.mp4']\n",
            "['/content/drive/MyDrive/export video/Exit 10/MM 010.0 North of Exit 101 (1) copy.mp4', '/content/drive/MyDrive/export video/Exit 109/MM 110.4 Exit 1091 (1) copy.mp4', '/content/drive/MyDrive/export video/Exit 142/MM 142.8 Exit 1421 copy.mp4', '/content/drive/MyDrive/export video/Exit 144/MM 145.8 North of Exit 1441 (1) copy 2.mp4', '/content/drive/MyDrive/export video/Exit 145/MM 147.0 Exit 145 Sussex Ave Overpass1 (2) morning copy.mp4', '/content/drive/MyDrive/export video/MM 3.38 Hudson County Ext. W. of Int 14A1.mp4', '/content/drive/MyDrive/export video/MM 083.4 North of Interchange 91.mp4', '/content/drive/MyDrive/export video/MM 110.38 W Spur North of Interchange 15W1.mp4', '/content/drive/MyDrive/export video/MM 090.8 Interchange 111.mp4', '/content/drive/MyDrive/export video/MM 067.7 North of Interchange 81 (1).mp4', '/content/drive/MyDrive/export video/MM 101.6 Interchange 13A Entering TPK1 (1).mp4', '/content/drive/MyDrive/export video/MM 067.7 North of Interchange 81 (1).mp4', '/content/drive/MyDrive/export video/MM 112.7 Western Spur Interchange 16W1.mp4', '/content/drive/MyDrive/export video/MM 026.1 Interchange 31.mp4', '/content/drive/MyDrive/export video/MM 037.0 North of Interchange 41.mp4', '/content/drive/MyDrive/export video/MM 088.1 Interchange 101 (1).mp4', '/content/drive/MyDrive/export video/MM 095.9 Interchange 121 (2).mp4', '/content/drive/MyDrive/export video/MM 060.4 North of Interchange 7A1 (2).mp4', '/content/drive/MyDrive/export video/MM 103.4 South of Interchange 141 (1).mp4', '/content/drive/MyDrive/export video/MM 013.0 Interchange 21 (1).mp4', '/content/drive/MyDrive/export video/MM 112.31 W Spur South of Interchange 16W1.mp4', '/content/drive/MyDrive/export video/MM 002.4 Interchange 11.mp4', '/content/drive/MyDrive/export video/MM 044.2 North of Interchange 51.mp4', '/content/drive/MyDrive/export video/MM 106.5 E Spur North of Southern Mixing Bowl1.mp4', '/content/drive/MyDrive/export video/MM 071.4 South of Molly Pitcher Service Area1.mp4', '/content/drive/MyDrive/export video/MM 2.9 Pennsylvania Ext. West of Toll Plaza1.mp4', '/content/drive/MyDrive/export video/MM 107.1 Eastern Spur Interchange 15E1.mp4']\n"
          ]
        }
      ],
      "source": [
        "import os\n",
        "\n",
        "\n",
        "\n",
        "accidents =list(accidents_count.values())\n",
        "locations = list(accidents_count.keys())\n",
        "susceptibility_dic = {}\n",
        "test = {}\n",
        "susceptibility = []\n",
        "SAR = []\n",
        "accident_frequency= []\n",
        "total_susceptibility_list = []\n",
        "for accident in accidents:\n",
        "  if accidents.index(accident) < 4:\n",
        "    SAR_value = accident/(len(crash_tweets_gsp))\n",
        "  if accidents.index(accident) > 4:\n",
        "    SAR_value = accident/(len(crash_tweets))\n",
        "  SAR.append(SAR_value)\n",
        "  accidents_frequency = accident/365\n",
        "  accident_frequency.append(accidents_frequency)\n",
        "  total_susceptibility = SAR_value + accidents_frequency\n",
        "\n",
        "  if total_susceptibility < 0.507:\n",
        "    susceptibility_dic[locations[accidents.index(accident)]]= \"low susceptibility\"\n",
        "  if total_susceptibility >0.507 and total_susceptibility < 0.808:\n",
        "    susceptibility_dic[locations[accidents.index(accident)]]= \"mid susceptibility\"\n",
        "  if total_susceptibility> 0.808:\n",
        "    susceptibility_dic[locations[accidents.index(accident)]]= \"high susceptibility\"\n",
        "\n",
        "  if locations[accidents.index(accident)] != \"Interchange 13\":\n",
        "    susceptibility.append(total_susceptibility)\n",
        "\n",
        "\n",
        "\n",
        "reads = pd.read_csv(\"/content/Speed_weather data for everything.csv\")\n",
        "loc = reads['Exits'].tolist()\n",
        "\n",
        "print(susceptibility_dic)\n",
        "\n",
        "refined_dic = {}\n",
        "count = 0\n",
        "for l in loc:\n",
        "  if l == \"Exit 145\":\n",
        "    l = \"Exit 145 \"\n",
        "  if l == \"Int 14A\":\n",
        "    l = 'Interchange 14A'\n",
        "  if l == ' Interchange 9  ' or l=='Interchange 9  ':\n",
        "    l= \"Interchange 9\"\n",
        "  if l== \"Interchange 7A\":\n",
        "    l = 'North of Interchange 7A'\n",
        "  if l == 'Interchange 1':\n",
        "    l = 'Interchange 1 '\n",
        "  if l == 'Interchange 5':\n",
        "    l='North of Interchange 5'\n",
        "  if l == 'Pennsylvania Ext. West of Toll Plaza':\n",
        "    l='North of Delaware Memorial Bridge'\n",
        "  if l == 'Interchange 15E':\n",
        "    l = 'Eastern Spur Interchange 15E'\n",
        "  if l  == 'Interchange 16W':\n",
        "    count = count + 1\n",
        "    if count == 2:\n",
        "      print(\"yes\")\n",
        "      l =' Interchange 16W'\n",
        "      fart = susceptibility_dic[l]\n",
        "      refined_dic[' Interchange 16W1'] = fart\n",
        "    else:\n",
        "      l =' Interchange 16W'\n",
        "      fart = susceptibility_dic[l]\n",
        "      refined_dic[l] = fart\n",
        "\n",
        "  else:\n",
        "    fart = susceptibility_dic[l]\n",
        "    refined_dic[l] = fart\n",
        "##important\n",
        "\n",
        "list_files = []\n",
        "exits = os.listdir('/content/drive/MyDrive/export video')\n",
        "\n",
        "exits = exits[:-22]\n",
        "print(exits)\n",
        "for exit in exits:\n",
        "  Files = os.listdir('/content/drive/MyDrive/export video' + \"/\"+ str(exit) )\n",
        "  if \".ipynb_checkpoints\" in Files:\n",
        "    Files.remove(\".ipynb_checkpoints\")\n",
        "  if \"Exit 144\" == exit:\n",
        "    list_files.append('/content/drive/MyDrive/export video' + \"/\"+ str(exit) + '/' +  \"MM 145.8 North of Exit 1441 (1) copy 2.mp4\")\n",
        "  else:\n",
        "    list_files.append('/content/drive/MyDrive/export video' + \"/\"+ str(exit) + '/' +  str(Files[1]))\n",
        "\n",
        "NJTurnpike_files = os.listdir('/content/drive/MyDrive/export video')\n",
        "\n",
        "\n",
        "#print(NJTurnpike_files)\n",
        "\n",
        "second_try = []\n",
        "if \"Interchange 14\" in final_accident_location_NJTurnpike:\n",
        "  final_accident_location_NJTurnpike[final_accident_location_NJTurnpike.index('Interchange 14')]= 'Int 14A'\n",
        "if 'Interchange 13' in final_accident_location_NJTurnpike:\n",
        "  final_accident_location_NJTurnpike.remove('Interchange 13')\n",
        "for exits in final_accident_location_NJTurnpike:\n",
        "  for files in NJTurnpike_files:\n",
        "    if exits in files:\n",
        "      second_try.append(files)\n",
        "\n",
        "print(second_try)\n",
        "\n",
        "list_exits = [ 'Int 14A',\n",
        "              'Interchange 9'\t,\n",
        "              'Interchange 15W'\t,\n",
        "              'Interchange 11',\n",
        "              'Interchange 8',\n",
        "              'Interchange 13A',\n",
        "              'North of Interchange 8',\n",
        "              'Interchange 16W',\n",
        "              'Interchange 3',\n",
        "              'Interchange 4',\n",
        "              'Interchange 10',\n",
        "              'Interchange 12',\n",
        "              'Interchange 7A',\n",
        "              'Interchange 14',\n",
        "              'Interchange 2',\n",
        "              'Interchange 16W1',\n",
        "              'Interchange 1',\n",
        "              'Interchange 5',\n",
        "              'Southern Mixing Bowl',\n",
        "              'Molly Pitcher Service Area',\n",
        "              'Pennsylvania Ext. West of Toll Plaza',\n",
        "              'Interchange 15E'\n",
        "\n",
        "]\n",
        "\n",
        "second_try.append('MM 103.4 South of Interchange 141 (1).mp4')\n",
        "\n",
        "second_try.append('MM 2.9 Pennsylvania Ext. West of Toll Plaza1.mp4')\n",
        "\n",
        "print(second_try)\n",
        "addition_list = []\n",
        "#count = 0\n",
        "for exi in list_exits:\n",
        "  dup = []\n",
        "  for fil in second_try:\n",
        "    if exi in fil:\n",
        "      dup.append(fil)\n",
        "      if len(dup)>=2:\n",
        "        #print(dup)\n",
        "        if exi ==\"Interchange 11\":\n",
        "          addition_list.append(\"/content/drive/MyDrive/export video/\" + str(dup[0]))\n",
        "        if exi == \"Interchange 1\":\n",
        "          if len(dup) == 3:\n",
        "            addition_list.append(\"/content/drive/MyDrive/export video/\" + 'MM 002.4 Interchange 11.mp4')\n",
        "        if exi ==\"Interchange 7A\":\n",
        "          addition_list.append(\"/content/drive/MyDrive/export video/\" + str(dup[0]))\n",
        "        if exi == \"Interchange 16W\":\n",
        "          addition_list.append(\"/content/drive/MyDrive/export video/\" + str(dup[0]))\n",
        "        if exi == \"Interchange 16W1\":\n",
        "          #print(dup[1])\n",
        "          addition_list.append(\"/content/drive/MyDrive/export video/\" + str(dup[1]))\n",
        "      #else:\n",
        "\n",
        "      if exi == \"Interchange 14\":\n",
        "        addition_list.append(\"/content/drive/MyDrive/export video/\" + 'MM 103.4 South of Interchange 141 (1).mp4')\n",
        "      if exi == 'Pennsylvania Ext. West of Toll Plaza':\n",
        "        addition_list.append(\"/content/drive/MyDrive/export video/\" + 'MM 2.9 Pennsylvania Ext. West of Toll Plaza1.mp4')\n",
        "\n",
        "      if exi != \"Interchange 7A\" and exi != \"Interchange 16W\" and exi != \"Interchange 16W1\" and exi != \"Interchange 1\" and exi != \"Interchange 11\" and exi != \"Interchange 14\" and exi != 'Pennsylvania Ext. West of Toll Plaza':\n",
        "\n",
        "        addition_list.append(\"/content/drive/MyDrive/export video/\" + str(fil))\n",
        "      #if exi == \"Interchange\"\n",
        "\n",
        "\n",
        "total_list = list_files + addition_list\n",
        "\n",
        "print(total_list)\n",
        "\n",
        "reads[\"Videos\"] = total_list\n",
        "reads[\"Susceptibility\"] = list(refined_dic.values())\n",
        "\n",
        "\n",
        "\n",
        "\n",
        "reads.to_csv('final_model_dataset2.csv', index = None, header = True )\n",
        "\n"
      ]
    },
    {
      "cell_type": "code",
      "execution_count": null,
      "metadata": {
        "id": "lG0NLmeue_8E",
        "colab": {
          "base_uri": "https://localhost:8080/",
          "height": 508
        },
        "outputId": "7931a877-00c8-49a0-f029-14801f1f9206"
      },
      "outputs": [
        {
          "output_type": "stream",
          "name": "stdout",
          "text": [
            "Looking in indexes: https://pypi.org/simple, https://us-python.pkg.dev/colab-wheels/public/simple/\n",
            "Requirement already satisfied: matplotlib in /usr/local/lib/python3.9/dist-packages (3.7.1)\n",
            "Requirement already satisfied: packaging>=20.0 in /usr/local/lib/python3.9/dist-packages (from matplotlib) (23.0)\n",
            "Requirement already satisfied: numpy>=1.20 in /usr/local/lib/python3.9/dist-packages (from matplotlib) (1.22.4)\n",
            "Requirement already satisfied: cycler>=0.10 in /usr/local/lib/python3.9/dist-packages (from matplotlib) (0.11.0)\n",
            "Requirement already satisfied: pyparsing>=2.3.1 in /usr/local/lib/python3.9/dist-packages (from matplotlib) (3.0.9)\n",
            "Requirement already satisfied: python-dateutil>=2.7 in /usr/local/lib/python3.9/dist-packages (from matplotlib) (2.8.2)\n",
            "Requirement already satisfied: importlib-resources>=3.2.0 in /usr/local/lib/python3.9/dist-packages (from matplotlib) (5.12.0)\n",
            "Requirement already satisfied: kiwisolver>=1.0.1 in /usr/local/lib/python3.9/dist-packages (from matplotlib) (1.4.4)\n",
            "Requirement already satisfied: pillow>=6.2.0 in /usr/local/lib/python3.9/dist-packages (from matplotlib) (8.4.0)\n",
            "Requirement already satisfied: contourpy>=1.0.1 in /usr/local/lib/python3.9/dist-packages (from matplotlib) (1.0.7)\n",
            "Requirement already satisfied: fonttools>=4.22.0 in /usr/local/lib/python3.9/dist-packages (from matplotlib) (4.39.2)\n",
            "Requirement already satisfied: zipp>=3.1.0 in /usr/local/lib/python3.9/dist-packages (from importlib-resources>=3.2.0->matplotlib) (3.15.0)\n",
            "Requirement already satisfied: six>=1.5 in /usr/local/lib/python3.9/dist-packages (from python-dateutil>=2.7->matplotlib) (1.16.0)\n"
          ]
        },
        {
          "output_type": "display_data",
          "data": {
            "text/plain": [
              "<Figure size 432x288 with 1 Axes>"
            ],
            "image/png": "[encoded data removed]"
          },
          "metadata": {
            "needs_background": "light"
          }
        }
      ],
      "source": [
        "!pip install matplotlib\n",
        "import numpy as np\n",
        "import matplotlib.pyplot as plt\n",
        "import pandas_datareader as pdr\n",
        "import seaborn as sb\n",
        "\n",
        "linear_model_data = pd.DataFrame({\"SAR\": SAR, \"accident_frequency\": accident_frequency})\n",
        "\n",
        "linear_model_data.to_csv(\"regression\")\n",
        "\n",
        "data = pd.read_csv(\"regression\")\n",
        "data.head()\n",
        "\n",
        "show =data.drop(['Unnamed: 0'], axis = 1)\n",
        "\n",
        "show\n",
        "show.corr()\n",
        "\n",
        "\n",
        "#SAR vs. accident frequency\n",
        "plt.scatter(x= show[\"SAR\"],y=show['accident_frequency'])\n",
        "plt.show()\n",
        "\n",
        "\n",
        "#Total susceptibility vs. Weather\n",
        "\n",
        "\n"
      ]
    },
    {
      "cell_type": "code",
      "execution_count": null,
      "metadata": {
        "id": "IeaOgTu0UdVm",
        "colab": {
          "base_uri": "https://localhost:8080/",
          "height": 268
        },
        "outputId": "63606491-1109-436c-a21c-54057d862a9c"
      },
      "outputs": [
        {
          "output_type": "display_data",
          "data": {
            "text/plain": [
              "<Figure size 432x288 with 1 Axes>"
            ],
            "image/png": "[encoded data removed]"
          },
          "metadata": {
            "needs_background": "light"
          }
        }
      ],
      "source": [
        "#Total susceptibility vs speed\n",
        "premilinary_analysis1 = pd.DataFrame({\"Susceptibility\": susceptibility})\n",
        "premilinary_analysis1.to_csv(\"Total susceptibility vs Speed\")\n",
        "\n",
        "graph1 = pd.read_csv(\"Total susceptibility vs Speed\")\n",
        "\n",
        "speed = pd.read_csv(\"/content/final_model_dataset2.csv\")\n",
        "\n",
        "speed_data = speed['Speed']\n",
        "\n",
        "graph1[\"Speed\"] = speed_data\n",
        "\n",
        "\n",
        "graph1.head()\n",
        "\n",
        "real_graph = graph1.drop(['Unnamed: 0'], axis = 1)\n",
        "\n",
        "\n",
        "plt.scatter(x=real_graph[\"Speed\"], y= real_graph[\"Susceptibility\"])\n",
        "\n",
        "plt.show()\n",
        "\n",
        "\n"
      ]
    },
    {
      "cell_type": "markdown",
      "metadata": {
        "id": "Y8qbwIoPfJqV"
      },
      "source": [
        "Total susceptibility vs Weather"
      ]
    },
    {
      "cell_type": "code",
      "execution_count": null,
      "metadata": {
        "id": "OPDhtWumfAz3",
        "colab": {
          "base_uri": "https://localhost:8080/",
          "height": 285
        },
        "outputId": "bfeb616a-6925-4059-f9fd-3566ac98e03b"
      },
      "outputs": [
        {
          "output_type": "stream",
          "name": "stdout",
          "text": [
            "32\n"
          ]
        },
        {
          "output_type": "display_data",
          "data": {
            "text/plain": [
              "<Figure size 432x288 with 1 Axes>"
            ],
            "image/png": "[encoded data removed]"
          },
          "metadata": {
            "needs_background": "light"
          }
        }
      ],
      "source": [
        "premilinary_analysis2 = pd.DataFrame({\"Susceptibility\": susceptibility})\n",
        "\n",
        "premilinary_analysis2.to_csv(\"Total susceptibility vs Weather\")\n",
        "\n",
        "graph2 = pd.read_csv(\"Total susceptibility vs Weather\")\n",
        "\n",
        "weather = pd.read_csv(\"/content/final_model_dataset2.csv\")\n",
        "\n",
        "\n",
        "print(len(graph2['Susceptibility'] ))\n",
        "graph2['Annual Rain fall'] = weather[\"Annual Rain fall\"]\n",
        "\n",
        "real_graph2 = graph2.drop(['Unnamed: 0'], axis = 1)\n",
        "\n",
        "\n",
        "real_graph2.corr()\n",
        "\n",
        "\n",
        "\n",
        "#months =list(speed_data.keys())\n",
        "\n",
        "\n",
        "plt.scatter(x=real_graph2[\"Annual Rain fall\"], y= real_graph2[\"Susceptibility\"])\n",
        "\n",
        "plt.show()\n",
        "\n",
        "\n",
        "\n",
        "\n"
      ]
    },
    {
      "cell_type": "markdown",
      "metadata": {
        "id": "C1KB1qDSizJ-"
      },
      "source": [
        "Total Susceptibility vs Traffic Volume Rate"
      ]
    },
    {
      "cell_type": "code",
      "source": [
        "traffic_rate_dic={'Exit 10': 66, 'Exit 109': 0, 'Exit 142': 303, 'Exit 144': 2314, 'Exit 145': 32, 'Int 14A': 207, 'Interchange 9  ': 115, 'Interchange 15W': 3384, 'Interchange 11': 25, 'Interchange 8A': 302, 'Interchange 13A': 126, 'North of Interchange 8': 302, 'Interchange 16W': 922, 'Interchange 3': 36, 'Interchange 4': 74, 'Interchange 10': 2090, 'Interchange 12': 336, 'Interchange 7A': 300, 'Interchange 14': 1135, 'Interchange 2': 114, 'Interchange 16W1': 922, 'Interchange 1': 8, 'Interchange 5': 81, 'Southern Mixing Bowl': 674, 'Molly Pitcher Service Area': 0, 'Pennsylvania Ext. West of Toll Plaza': 161, 'Interchange 15E': 86}\n",
        "\n",
        "numberofvehicles = list(traffic_rate_dic.values())\n",
        "\n",
        "\n",
        "traffic_volume_rate = []\n",
        "\n",
        "for vehicles in numberofvehicles:\n",
        "  traffic_volume_rate.append(vehicles/600)\n",
        "\n",
        "premilinary_analysis3 = pd.DataFrame({\"Susceptibility\": susceptibility})\n",
        "premilinary_analysis3.to_csv(\"Total susceptibility vs Traffic Volume rate\")\n",
        "\n",
        "premilinary_analysis3 = pd.DataFrame({\"Traffic Volume rate\": traffic_volume_rate})\n",
        "premilinary_analysis3.to_csv(\"Total susceptibility vs Traffic Volume rate2\")\n",
        "\n",
        "graph3 = pd.read_csv(\"Total susceptibility vs Traffic Volume rate\")\n",
        "graph32 = pd.read_csv(\"Total susceptibility vs Traffic Volume rate2\")\n",
        "\n",
        "\n",
        "graph3[\"Traffic Volume rate\"] = graph32['Traffic Volume rate']\n",
        "\n",
        "real_graph3 = graph3.drop(['Unnamed: 0'], axis = 1)\n",
        "\n",
        "plt.scatter(x=real_graph3[\"Traffic Volume rate\"], y= real_graph2[\"Susceptibility\"])\n",
        "\n",
        "plt.show()"
      ],
      "metadata": {
        "colab": {
          "base_uri": "https://localhost:8080/",
          "height": 268
        },
        "id": "q5KdsmTlBpAd",
        "outputId": "a9cfb8c3-f2a9-42ac-b166-b998f61d10e3"
      },
      "execution_count": null,
      "outputs": [
        {
          "output_type": "display_data",
          "data": {
            "text/plain": [
              "<Figure size 432x288 with 1 Axes>"
            ],
            "image/png": "[encoded data removed]"
          },
          "metadata": {
            "needs_background": "light"
          }
        }
      ]
    },
    {
      "cell_type": "markdown",
      "metadata": {
        "id": "Tlhcrv78fM2K"
      },
      "source": [
        "NJ TurnPike Dataprocessing"
      ]
    },
    {
      "cell_type": "code",
      "execution_count": null,
      "metadata": {
        "id": "rHs724DpZ8d9",
        "colab": {
          "base_uri": "https://localhost:8080/"
        },
        "outputId": "a829f16b-2fde-4748-dde6-f7737337ae10"
      },
      "outputs": [
        {
          "output_type": "stream",
          "name": "stdout",
          "text": [
            "[125, 126, 127]\n",
            "['44.86', '53.34', '46.27']\n"
          ]
        }
      ],
      "source": [
        "import requests\n",
        "from bs4 import BeautifulSoup as bs\n",
        "\n",
        "webpage = requests.get(\"https://climate.rutgers.edu/stateclim_v1/nclimdiv/index.php?stn=NJ003&elem=pcpn\")\n",
        "\n",
        "soup = bs(webpage.content, 'html.parser')\n",
        "table = soup.select('table')[0]\n",
        "\n",
        "column = table.find('tbody').find_all('th')\n",
        "\n",
        "year_list = []\n",
        "for year in column:\n",
        "  if str(year.text) == '2022' or str(year.text) == '2021' or str(year.text) == '2020'  :\n",
        "   year_list.append(column.index(year))\n",
        "\n",
        "print(year_list)\n",
        "\n",
        "rainfall_inches = []\n",
        "for each_year in year_list:\n",
        "  cells = table.find('tbody').find_all ('tr')[each_year]\n",
        "\n",
        "  rain_fall = cells.find_all(\"span\")[12]\n",
        "\n",
        "  rainfall_inches.append(rain_fall.text)\n",
        "\n",
        "print(rainfall_inches)"
      ]
    },
    {
      "cell_type": "code",
      "execution_count": null,
      "metadata": {
        "id": "eJjEes8K5jTE",
        "colab": {
          "base_uri": "https://localhost:8080/",
          "height": 537
        },
        "outputId": "32029f8c-7efe-48ba-f0f4-139714726872"
      },
      "outputs": [
        {
          "output_type": "stream",
          "name": "stdout",
          "text": [
            "Looking in indexes: https://pypi.org/simple, https://us-python.pkg.dev/colab-wheels/public/simple/\n",
            "Requirement already satisfied: tweepy in /usr/local/lib/python3.9/dist-packages (4.13.0)\n",
            "Requirement already satisfied: requests-oauthlib<2,>=1.2.0 in /usr/local/lib/python3.9/dist-packages (from tweepy) (1.3.1)\n",
            "Requirement already satisfied: oauthlib<4,>=3.2.0 in /usr/local/lib/python3.9/dist-packages (from tweepy) (3.2.2)\n",
            "Requirement already satisfied: requests<3,>=2.27.0 in /usr/local/lib/python3.9/dist-packages (from tweepy) (2.27.1)\n",
            "Requirement already satisfied: charset-normalizer~=2.0.0 in /usr/local/lib/python3.9/dist-packages (from requests<3,>=2.27.0->tweepy) (2.0.12)\n",
            "Requirement already satisfied: idna<4,>=2.5 in /usr/local/lib/python3.9/dist-packages (from requests<3,>=2.27.0->tweepy) (3.4)\n",
            "Requirement already satisfied: certifi>=2017.4.17 in /usr/local/lib/python3.9/dist-packages (from requests<3,>=2.27.0->tweepy) (2022.12.7)\n",
            "Requirement already satisfied: urllib3<1.27,>=1.21.1 in /usr/local/lib/python3.9/dist-packages (from requests<3,>=2.27.0->tweepy) (1.26.15)\n"
          ]
        },
        {
          "output_type": "error",
          "ename": "TypeError",
          "evalue": "ignored",
          "traceback": [
            "\u001b[0;31m---------------------------------------------------------------------------\u001b[0m",
            "\u001b[0;31mTypeError\u001b[0m                                 Traceback (most recent call last)",
            "\u001b[0;32m<ipython-input-12-c745c55b8ffb>\u001b[0m in \u001b[0;36m<module>\u001b[0;34m\u001b[0m\n\u001b[1;32m     21\u001b[0m \u001b[0;34m\u001b[0m\u001b[0m\n\u001b[1;32m     22\u001b[0m \u001b[0mtweets\u001b[0m \u001b[0;34m=\u001b[0m \u001b[0;34m[\u001b[0m\u001b[0;34m]\u001b[0m\u001b[0;34m\u001b[0m\u001b[0;34m\u001b[0m\u001b[0m\n\u001b[0;32m---> 23\u001b[0;31m \u001b[0mtmpTweets\u001b[0m \u001b[0;34m=\u001b[0m \u001b[0mapi\u001b[0m\u001b[0;34m.\u001b[0m\u001b[0muser_timeline\u001b[0m\u001b[0;34m(\u001b[0m\u001b[0musername\u001b[0m\u001b[0;34m)\u001b[0m\u001b[0;34m\u001b[0m\u001b[0;34m\u001b[0m\u001b[0m\n\u001b[0m\u001b[1;32m     24\u001b[0m \u001b[0;32mfor\u001b[0m \u001b[0mtweet\u001b[0m \u001b[0;32min\u001b[0m \u001b[0mtmpTweets\u001b[0m\u001b[0;34m:\u001b[0m\u001b[0;34m\u001b[0m\u001b[0;34m\u001b[0m\u001b[0m\n\u001b[1;32m     25\u001b[0m     \u001b[0;32mif\u001b[0m \u001b[0mtweet\u001b[0m\u001b[0;34m.\u001b[0m\u001b[0mcreated_at\u001b[0m \u001b[0;34m<\u001b[0m \u001b[0mendDate\u001b[0m \u001b[0;32mand\u001b[0m \u001b[0mtweet\u001b[0m\u001b[0;34m.\u001b[0m\u001b[0mcreated_at\u001b[0m \u001b[0;34m>\u001b[0m \u001b[0mstartDate\u001b[0m\u001b[0;34m:\u001b[0m\u001b[0;34m\u001b[0m\u001b[0;34m\u001b[0m\u001b[0m\n",
            "\u001b[0;32m/usr/local/lib/python3.9/dist-packages/tweepy/api.py\u001b[0m in \u001b[0;36mwrapper\u001b[0;34m(*args, **kwargs)\u001b[0m\n\u001b[1;32m     31\u001b[0m         \u001b[0;34m@\u001b[0m\u001b[0mfunctools\u001b[0m\u001b[0;34m.\u001b[0m\u001b[0mwraps\u001b[0m\u001b[0;34m(\u001b[0m\u001b[0mmethod\u001b[0m\u001b[0;34m)\u001b[0m\u001b[0;34m\u001b[0m\u001b[0;34m\u001b[0m\u001b[0m\n\u001b[1;32m     32\u001b[0m         \u001b[0;32mdef\u001b[0m \u001b[0mwrapper\u001b[0m\u001b[0;34m(\u001b[0m\u001b[0;34m*\u001b[0m\u001b[0margs\u001b[0m\u001b[0;34m,\u001b[0m \u001b[0;34m**\u001b[0m\u001b[0mkwargs\u001b[0m\u001b[0;34m)\u001b[0m\u001b[0;34m:\u001b[0m\u001b[0;34m\u001b[0m\u001b[0;34m\u001b[0m\u001b[0m\n\u001b[0;32m---> 33\u001b[0;31m             \u001b[0;32mreturn\u001b[0m \u001b[0mmethod\u001b[0m\u001b[0;34m(\u001b[0m\u001b[0;34m*\u001b[0m\u001b[0margs\u001b[0m\u001b[0;34m,\u001b[0m \u001b[0;34m**\u001b[0m\u001b[0mkwargs\u001b[0m\u001b[0;34m)\u001b[0m\u001b[0;34m\u001b[0m\u001b[0;34m\u001b[0m\u001b[0m\n\u001b[0m\u001b[1;32m     34\u001b[0m         \u001b[0mwrapper\u001b[0m\u001b[0;34m.\u001b[0m\u001b[0mpagination_mode\u001b[0m \u001b[0;34m=\u001b[0m \u001b[0mmode\u001b[0m\u001b[0;34m\u001b[0m\u001b[0;34m\u001b[0m\u001b[0m\n\u001b[1;32m     35\u001b[0m         \u001b[0;32mreturn\u001b[0m \u001b[0mwrapper\u001b[0m\u001b[0;34m\u001b[0m\u001b[0;34m\u001b[0m\u001b[0m\n",
            "\u001b[0;32m/usr/local/lib/python3.9/dist-packages/tweepy/api.py\u001b[0m in \u001b[0;36mwrapper\u001b[0;34m(*args, **kwargs)\u001b[0m\n\u001b[1;32m     44\u001b[0m             \u001b[0mkwargs\u001b[0m\u001b[0;34m[\u001b[0m\u001b[0;34m'payload_list'\u001b[0m\u001b[0;34m]\u001b[0m \u001b[0;34m=\u001b[0m \u001b[0mpayload_list\u001b[0m\u001b[0;34m\u001b[0m\u001b[0;34m\u001b[0m\u001b[0m\n\u001b[1;32m     45\u001b[0m             \u001b[0mkwargs\u001b[0m\u001b[0;34m[\u001b[0m\u001b[0;34m'payload_type'\u001b[0m\u001b[0;34m]\u001b[0m \u001b[0;34m=\u001b[0m \u001b[0mpayload_type\u001b[0m\u001b[0;34m\u001b[0m\u001b[0;34m\u001b[0m\u001b[0m\n\u001b[0;32m---> 46\u001b[0;31m             \u001b[0;32mreturn\u001b[0m \u001b[0mmethod\u001b[0m\u001b[0;34m(\u001b[0m\u001b[0;34m*\u001b[0m\u001b[0margs\u001b[0m\u001b[0;34m,\u001b[0m \u001b[0;34m**\u001b[0m\u001b[0mkwargs\u001b[0m\u001b[0;34m)\u001b[0m\u001b[0;34m\u001b[0m\u001b[0;34m\u001b[0m\u001b[0m\n\u001b[0m\u001b[1;32m     47\u001b[0m         \u001b[0mwrapper\u001b[0m\u001b[0;34m.\u001b[0m\u001b[0mpayload_list\u001b[0m \u001b[0;34m=\u001b[0m \u001b[0mpayload_list\u001b[0m\u001b[0;34m\u001b[0m\u001b[0;34m\u001b[0m\u001b[0m\n\u001b[1;32m     48\u001b[0m         \u001b[0mwrapper\u001b[0m\u001b[0;34m.\u001b[0m\u001b[0mpayload_type\u001b[0m \u001b[0;34m=\u001b[0m \u001b[0mpayload_type\u001b[0m\u001b[0;34m\u001b[0m\u001b[0;34m\u001b[0m\u001b[0m\n",
            "\u001b[0;31mTypeError\u001b[0m: user_timeline() takes 1 positional argument but 2 were given"
          ]
        }
      ],
      "source": [
        "!pip install tweepy\n",
        "\n",
        "import tweepy\n",
        "\n",
        "import datetime\n",
        "\n",
        "\n",
        "consumerKey = \"\"\n",
        "consumerSecret = \"\"\n",
        "accessToken = \"\"\n",
        "accessTokenSecret = \"\"\n",
        "\n",
        "auth = tweepy.OAuthHandler(consumerKey, consumerSecret)\n",
        "auth.set_access_token(accessToken, accessTokenSecret)\n",
        "\n",
        "api = tweepy.API(auth, wait_on_rate_limit=True)\n",
        "\n",
        "username = \"@511njgsp\"\n",
        "startDate = datetime.datetime(2021, 6, 1, 0, 0, 0)\n",
        "endDate =   datetime.datetime(2023, 1, 1, 0, 0, 0)\n",
        "\n",
        "tweets = []\n",
        "tmpTweets = api.user_timeline(username)\n",
        "for tweet in tmpTweets:\n",
        "    if tweet.created_at < endDate and tweet.created_at > startDate:\n",
        "        tweets.append(tweet)\n",
        "\n",
        "while (tmpTweets[-1].created_at > startDate):\n",
        "    tmpTweets = api.user_timeline(username, max_id = tmpTweets[-1].id)\n",
        "    for tweet in tmpTweets:\n",
        "        if tweet.created_at < endDate and tweet.created_at > startDate:\n",
        "            tweets.append(tweet)"
      ]
    }
  ],
  "metadata": {
    "colab": {
      "provenance": []
    },
    "kernelspec": {
      "display_name": "Python 3",
      "name": "python3"
    },
    "language_info": {
      "name": "python"
    }
  },
  "nbformat": 4,
  "nbformat_minor": 0
}